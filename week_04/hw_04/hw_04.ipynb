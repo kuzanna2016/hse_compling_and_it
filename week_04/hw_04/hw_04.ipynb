{
  "nbformat": 4,
  "nbformat_minor": 0,
  "metadata": {
    "colab": {
      "name": "hw_04.ipynb",
      "provenance": [],
      "collapsed_sections": []
    },
    "kernelspec": {
      "name": "python3",
      "display_name": "Python 3"
    }
  },
  "cells": [
    {
      "cell_type": "markdown",
      "metadata": {
        "id": "XB_LxRzSbrBl"
      },
      "source": [
        "## Домашнее задание №4\n",
        "\n",
        "В качестве домашнего задания предлагаются следующие задачи:\n",
        "\n",
        "1) Реализовать метод аугментации текстовых данных на основе дистрибутивных векторных представлений, который можно применить в перечисленных ниже задачах (на выбор) и проанализировать итоговое качество с/без аугментации.\n",
        "\n",
        "2) Решить задачу регрессии с использованием текстовых признаков на англоязычном датасете [Medium Stories](https://www.kaggle.com/harrisonjansma/medium-stories).\n",
        "\n",
        "3) Решить задачу детекции парафразов.\n",
        "\n",
        "4) Использовать методы для нахождения оптимальных гиперпараметров модели.\n",
        "\n",
        "5) Использовать кросс-валидацию и/или методы семплирования данных.\n",
        "\n",
        "Это домашнее задание является \"конструктором\": вы можете выполнить интересующие вас блоки или получить больше 10 баллов.\n",
        "\n",
        "Если качество моделей не повысилось, но попытка реализована верно, вы все равно получаете баллы (например, при конструировании собственных текстовых признаков). \n",
        "\n",
        "Дедлайн: **18 октября 23:59**\n"
      ]
    },
    {
      "cell_type": "markdown",
      "metadata": {
        "id": "GJntJKWGe3Ux"
      },
      "source": [
        "### Блок 1: Аугментация с заменой слов на основе ```word2vec``` (2 балла)\n",
        "\n",
        "* Можно использовать библиотеку ```gensim``` и модели [rusvectores](https://rusvectores.org/ru/models/)\n",
        "\n"
      ]
    },
    {
      "cell_type": "code",
      "metadata": {
        "id": "mR7tuRTwf_cz",
        "outputId": "29ed11c5-8694-4eab-d38b-c3602fa776a1",
        "colab": {
          "base_uri": "https://localhost:8080/",
          "height": 301
        }
      },
      "source": [
        "!wget -c http://vectors.nlpl.eu/repository/20/180.zip\n",
        "!unzip 180.zip"
      ],
      "execution_count": 1,
      "outputs": [
        {
          "output_type": "stream",
          "text": [
            "--2020-10-12 08:01:08--  http://vectors.nlpl.eu/repository/20/180.zip\n",
            "Resolving vectors.nlpl.eu (vectors.nlpl.eu)... 129.240.189.225\n",
            "Connecting to vectors.nlpl.eu (vectors.nlpl.eu)|129.240.189.225|:80... connected.\n",
            "HTTP request sent, awaiting response... 200 OK\n",
            "Length: 484452317 (462M) [application/zip]\n",
            "Saving to: ‘180.zip’\n",
            "\n",
            "180.zip             100%[===================>] 462.01M  9.89MB/s    in 58s     \n",
            "\n",
            "2020-10-12 08:02:08 (7.92 MB/s) - ‘180.zip’ saved [484452317/484452317]\n",
            "\n",
            "Archive:  180.zip\n",
            "  inflating: meta.json               \n",
            "  inflating: model.bin               \n",
            "  inflating: model.txt               \n",
            "  inflating: README                  \n"
          ],
          "name": "stdout"
        }
      ]
    },
    {
      "cell_type": "code",
      "metadata": {
        "id": "P64Ge3mLZ4zn",
        "outputId": "0a2756a1-2613-40e1-c09a-f31a940a9a25",
        "colab": {
          "base_uri": "https://localhost:8080/",
          "height": 72
        }
      },
      "source": [
        "import gensim\n",
        "\n",
        "\n",
        "model = gensim.models.KeyedVectors.load_word2vec_format(\"model.bin\", binary=True)\n",
        "model.init_sims(replace=True)"
      ],
      "execution_count": 2,
      "outputs": [
        {
          "output_type": "stream",
          "text": [
            "/usr/local/lib/python3.6/dist-packages/smart_open/smart_open_lib.py:252: UserWarning: This function is deprecated, use smart_open.open instead. See the migration notes for details: https://github.com/RaRe-Technologies/smart_open/blob/master/README.rst#migrating-to-the-new-open-function\n",
            "  'See the migration notes for details: %s' % _MIGRATION_NOTES_URL\n"
          ],
          "name": "stderr"
        }
      ]
    },
    {
      "cell_type": "markdown",
      "metadata": {
        "id": "kdUdpIiDhpFA"
      },
      "source": [
        "Напишите функцию, которая заменяет слова во входном предложении их ближайшими семантическими ассоциатами (1 балл)."
      ]
    },
    {
      "cell_type": "code",
      "metadata": {
        "id": "9PcdwIL0hHBv"
      },
      "source": [
        "def augment_word2vec(sentence, model=model):\n",
        "    # your code here\n",
        "    pass"
      ],
      "execution_count": 6,
      "outputs": []
    },
    {
      "cell_type": "code",
      "metadata": {
        "id": "L4xscKdqkpPy",
        "outputId": "397f9f7e-9300-482d-f89d-da814263897e",
        "colab": {
          "base_uri": "https://localhost:8080/",
          "height": 35
        }
      },
      "source": [
        "import warnings\n",
        "warnings.simplefilter(action='ignore', category=FutureWarning)\n",
        "\n",
        "sent = \"мама помыла окно\"\n",
        "\n",
        "# пример работы наивной функции\n",
        "augment_word2vec(sent)"
      ],
      "execution_count": 21,
      "outputs": [
        {
          "output_type": "execute_result",
          "data": {
            "application/vnd.google.colaboratory.intrinsic+json": {
              "type": "string"
            },
            "text/plain": [
              "'бабушка вымывать окошко'"
            ]
          },
          "metadata": {
            "tags": []
          },
          "execution_count": 21
        }
      ]
    },
    {
      "cell_type": "markdown",
      "metadata": {
        "id": "WWFKcZshiBDY"
      },
      "source": [
        "Измените функцию так, чтобы заменялись слова, относящиеся к заданному набору пос-тегов (например, ADJ, NOUN), и сохранялась грамматика (1 балл). "
      ]
    },
    {
      "cell_type": "code",
      "metadata": {
        "id": "AvukGlGgiWnI"
      },
      "source": [
        "def augment_word2vec_pos(sentence, model):\n",
        "    # your code here\n",
        "    pass"
      ],
      "execution_count": null,
      "outputs": []
    },
    {
      "cell_type": "markdown",
      "metadata": {
        "id": "73dUkvww8xzM"
      },
      "source": [
        "### Блок 2: Регрессия; Medium Stories (до 8 баллов)\n",
        "\n",
        "Датасет можно скачать [здесь](https://yadi.sk/d/90JykTO48fL6qw) или со страницы кегли. Можно взять подвыборку.\n",
        "\n",
        "\n",
        "\n",
        "Подзадачи:\n",
        "\n",
        "1.   Эксплоративный анализ данных (1 балл)\n",
        "2.   Отбор важных признаков, поиск гиперпараметров, минимизация переобучения (2 балла)\n",
        "3.   Адаптация аугментации данных с заменой слов (1 балл)\n",
        "4.   Конструирование текстовых признаков (2 балла)\n",
        "5.   Сравнение качества моделей, выбор наилучшей (1 балл)\n",
        "6.   Анализ ошибок (1 балл)  "
      ]
    },
    {
      "cell_type": "code",
      "metadata": {
        "id": "jDXg4C4TB4yl",
        "outputId": "a4890d30-49ea-47e8-8440-7c5562d7ae72",
        "colab": {
          "base_uri": "https://localhost:8080/",
          "height": 34
        }
      },
      "source": [
        "from google.colab import drive\n",
        "drive.mount('gdrive')"
      ],
      "execution_count": 23,
      "outputs": [
        {
          "output_type": "stream",
          "text": [
            "Mounted at gdrive\n"
          ],
          "name": "stdout"
        }
      ]
    },
    {
      "cell_type": "code",
      "metadata": {
        "id": "jRPNWXzmCK1P",
        "outputId": "37a66f2b-547e-41f9-9693-bf34ecad1052",
        "colab": {
          "base_uri": "https://localhost:8080/",
          "height": 70
        }
      },
      "source": [
        "%cd gdrive/My\\ Drive/\n",
        "\n",
        "!unzip medium_stories.zip"
      ],
      "execution_count": 25,
      "outputs": [
        {
          "output_type": "stream",
          "text": [
            "/content/gdrive/My Drive\n",
            "Archive:  medium_stories.zip\n",
            "  inflating: Medium_Clean.csv        \n"
          ],
          "name": "stdout"
        }
      ]
    },
    {
      "cell_type": "code",
      "metadata": {
        "id": "_rzfLN_pCT7r",
        "outputId": "a6d2578e-8934-453a-b013-c8d76851ede0",
        "colab": {
          "base_uri": "https://localhost:8080/",
          "height": 520
        }
      },
      "source": [
        "import pandas as pd\n",
        "\n",
        "\n",
        "# можно не использовать колонки с тегами\n",
        "usecols = [\"Title\", \"Subtitle\", \"Image\", \"Author\", \"Publication\", \"Year\", \"Month\", \"Day\", \"Reading_Time\", \"Claps\", \"url\", \"Author_url\"]\n",
        "\n",
        "df = pd.read_csv(\"Medium_Clean.csv\", sep=\",\", usecols=usecols)\n",
        "df[\"Claps\"] = df[\"Claps\"].astype(int)\n",
        "df.head()"
      ],
      "execution_count": 29,
      "outputs": [
        {
          "output_type": "stream",
          "text": [
            "/usr/local/lib/python3.6/dist-packages/IPython/core/interactiveshell.py:2718: DtypeWarning: Columns (5) have mixed types.Specify dtype option on import or set low_memory=False.\n",
            "  interactivity=interactivity, compiler=compiler, result=result)\n"
          ],
          "name": "stderr"
        },
        {
          "output_type": "execute_result",
          "data": {
            "text/html": [
              "<div>\n",
              "<style scoped>\n",
              "    .dataframe tbody tr th:only-of-type {\n",
              "        vertical-align: middle;\n",
              "    }\n",
              "\n",
              "    .dataframe tbody tr th {\n",
              "        vertical-align: top;\n",
              "    }\n",
              "\n",
              "    .dataframe thead th {\n",
              "        text-align: right;\n",
              "    }\n",
              "</style>\n",
              "<table border=\"1\" class=\"dataframe\">\n",
              "  <thead>\n",
              "    <tr style=\"text-align: right;\">\n",
              "      <th></th>\n",
              "      <th>Title</th>\n",
              "      <th>Subtitle</th>\n",
              "      <th>Image</th>\n",
              "      <th>Author</th>\n",
              "      <th>Publication</th>\n",
              "      <th>Year</th>\n",
              "      <th>Month</th>\n",
              "      <th>Day</th>\n",
              "      <th>Reading_Time</th>\n",
              "      <th>Claps</th>\n",
              "      <th>url</th>\n",
              "      <th>Author_url</th>\n",
              "    </tr>\n",
              "  </thead>\n",
              "  <tbody>\n",
              "    <tr>\n",
              "      <th>0</th>\n",
              "      <td>Online Animation: Mixamo vs Norah AI</td>\n",
              "      <td>Online animations tools provide game designers...</td>\n",
              "      <td>1</td>\n",
              "      <td>Emma Laurent</td>\n",
              "      <td>NaN</td>\n",
              "      <td>2017</td>\n",
              "      <td>8</td>\n",
              "      <td>1</td>\n",
              "      <td>5</td>\n",
              "      <td>12</td>\n",
              "      <td>https://medium.com/@laurentemma/online-animati...</td>\n",
              "      <td>https://medium.com/@laurentemma</td>\n",
              "    </tr>\n",
              "    <tr>\n",
              "      <th>1</th>\n",
              "      <td>A.I. ?</td>\n",
              "      <td>NaN</td>\n",
              "      <td>0</td>\n",
              "      <td>Sanparith Marukatat</td>\n",
              "      <td>NaN</td>\n",
              "      <td>2017</td>\n",
              "      <td>8</td>\n",
              "      <td>1</td>\n",
              "      <td>2</td>\n",
              "      <td>11</td>\n",
              "      <td>https://medium.com/@sanparithmarukatat/a-i-%E0...</td>\n",
              "      <td>https://medium.com/@sanparithmarukatat</td>\n",
              "    </tr>\n",
              "    <tr>\n",
              "      <th>2</th>\n",
              "      <td>Futures of AI, Friendly AI?</td>\n",
              "      <td>From Physics of the Future: How Science Will S...</td>\n",
              "      <td>1</td>\n",
              "      <td>Z</td>\n",
              "      <td>NaN</td>\n",
              "      <td>2017</td>\n",
              "      <td>8</td>\n",
              "      <td>1</td>\n",
              "      <td>3</td>\n",
              "      <td>1</td>\n",
              "      <td>https://medium.com/@otherside914/futures-of-ai...</td>\n",
              "      <td>https://medium.com/@otherside914</td>\n",
              "    </tr>\n",
              "    <tr>\n",
              "      <th>3</th>\n",
              "      <td>The Value Generated through AI led Mindfulness</td>\n",
              "      <td>A true product co-created by the Millennials</td>\n",
              "      <td>1</td>\n",
              "      <td>Emiko Sawaguchi</td>\n",
              "      <td>MILLENNIALSTIMES</td>\n",
              "      <td>2017</td>\n",
              "      <td>8</td>\n",
              "      <td>1</td>\n",
              "      <td>5</td>\n",
              "      <td>4</td>\n",
              "      <td>https://millennials-times.com/creativeflower-e...</td>\n",
              "      <td>https://millennials-times.com/@emikosawaguchi</td>\n",
              "    </tr>\n",
              "    <tr>\n",
              "      <th>4</th>\n",
              "      <td>Os Melhores Links de JulhoCmeras Vintage, Goog...</td>\n",
              "      <td>mas pera a?</td>\n",
              "      <td>1</td>\n",
              "      <td>Giovani Ferreira</td>\n",
              "      <td>NEW ORDER</td>\n",
              "      <td>2017</td>\n",
              "      <td>8</td>\n",
              "      <td>1</td>\n",
              "      <td>3</td>\n",
              "      <td>56</td>\n",
              "      <td>https://medium.com/neworder/os-melhores-links-...</td>\n",
              "      <td>https://medium.com/@gferreira</td>\n",
              "    </tr>\n",
              "  </tbody>\n",
              "</table>\n",
              "</div>"
            ],
            "text/plain": [
              "                                               Title  ...                                     Author_url\n",
              "0               Online Animation: Mixamo vs Norah AI  ...                https://medium.com/@laurentemma\n",
              "1                                             A.I. ?  ...         https://medium.com/@sanparithmarukatat\n",
              "2                        Futures of AI, Friendly AI?  ...               https://medium.com/@otherside914\n",
              "3     The Value Generated through AI led Mindfulness  ...  https://millennials-times.com/@emikosawaguchi\n",
              "4  Os Melhores Links de JulhoCmeras Vintage, Goog...  ...                  https://medium.com/@gferreira\n",
              "\n",
              "[5 rows x 12 columns]"
            ]
          },
          "metadata": {
            "tags": []
          },
          "execution_count": 29
        }
      ]
    },
    {
      "cell_type": "markdown",
      "metadata": {
        "id": "m9SrNOmbEf_p"
      },
      "source": [
        "### Блок 3: Paraphrase Detection (до 8 баллов)\n",
        "\n",
        "\n",
        "* [Статья по русскоязычному корпусу парафразов](https://www.aclweb.org/anthology/2020.ngt-1.6/)\n",
        "* [Еще статья](http://www.dialog-21.ru/media/3928/loukachevitchnvetal.pdf)\n",
        "* [Сайт корпуса](http://paraphraser.ru/)\n",
        "\n",
        "Отформатированные данные можно скачать [здесь](https://yadi.sk/d/OIgbnRA6OVJ4VQ)\n",
        "\n",
        "\n",
        "1.   Эксплоративный анализ данных (1 балл)\n",
        "2.   Поиск гиперпараметров, минимизация переобучения (2 балла)\n",
        "3.   Аугментация данных (1 балл)\n",
        "4.   Сравнение качества моделей, выбор наилучшей (1 балл)\n",
        "5.   Конструирование текстовых признаков (2 балла)\n",
        "6.   Анализ ошибок (1 балл)\n",
        "\n"
      ]
    },
    {
      "cell_type": "code",
      "metadata": {
        "id": "iDXYQu_uWSGm",
        "outputId": "5c0937bf-6fcf-47a6-cb26-a87d4a44dbe1",
        "colab": {
          "base_uri": "https://localhost:8080/",
          "height": 197
        }
      },
      "source": [
        "para = pd.read_csv(\"paraphrases.tsv\", sep=\"\\t\")\n",
        "para.head()"
      ],
      "execution_count": 34,
      "outputs": [
        {
          "output_type": "execute_result",
          "data": {
            "text/html": [
              "<div>\n",
              "<style scoped>\n",
              "    .dataframe tbody tr th:only-of-type {\n",
              "        vertical-align: middle;\n",
              "    }\n",
              "\n",
              "    .dataframe tbody tr th {\n",
              "        vertical-align: top;\n",
              "    }\n",
              "\n",
              "    .dataframe thead th {\n",
              "        text-align: right;\n",
              "    }\n",
              "</style>\n",
              "<table border=\"1\" class=\"dataframe\">\n",
              "  <thead>\n",
              "    <tr style=\"text-align: right;\">\n",
              "      <th></th>\n",
              "      <th>text_1</th>\n",
              "      <th>text_2</th>\n",
              "      <th>class</th>\n",
              "    </tr>\n",
              "  </thead>\n",
              "  <tbody>\n",
              "    <tr>\n",
              "      <th>0</th>\n",
              "      <td>Совет юстиции Бразилии легализовал однополые б...</td>\n",
              "      <td>Совет юстиции Бразилии разрешил однополые браки.</td>\n",
              "      <td>1</td>\n",
              "    </tr>\n",
              "    <tr>\n",
              "      <th>1</th>\n",
              "      <td>\"Магнит\" поручится перед \"Абсолют Банком\" за к...</td>\n",
              "      <td>Выпуск сигарет в России упал из-за антитабачно...</td>\n",
              "      <td>-1</td>\n",
              "    </tr>\n",
              "    <tr>\n",
              "      <th>2</th>\n",
              "      <td>ЕС призвал США не бомбить Сирию до публикации ...</td>\n",
              "      <td>Евросоюз призвал США дождаться доклада ООН по ...</td>\n",
              "      <td>-1</td>\n",
              "    </tr>\n",
              "    <tr>\n",
              "      <th>3</th>\n",
              "      <td>Депо Московского метрополитена впервые перейде...</td>\n",
              "      <td>Частной компании впервые отдадут депо в москов...</td>\n",
              "      <td>1</td>\n",
              "    </tr>\n",
              "    <tr>\n",
              "      <th>4</th>\n",
              "      <td>Два человека погибли в столкновениях между кур...</td>\n",
              "      <td>Один человек погиб при столкновении судов у бе...</td>\n",
              "      <td>-1</td>\n",
              "    </tr>\n",
              "  </tbody>\n",
              "</table>\n",
              "</div>"
            ],
            "text/plain": [
              "                                              text_1  ... class\n",
              "0  Совет юстиции Бразилии легализовал однополые б...  ...     1\n",
              "1  \"Магнит\" поручится перед \"Абсолют Банком\" за к...  ...    -1\n",
              "2  ЕС призвал США не бомбить Сирию до публикации ...  ...    -1\n",
              "3  Депо Московского метрополитена впервые перейде...  ...     1\n",
              "4  Два человека погибли в столкновениях между кур...  ...    -1\n",
              "\n",
              "[5 rows x 3 columns]"
            ]
          },
          "metadata": {
            "tags": []
          },
          "execution_count": 34
        }
      ]
    }
  ]
}